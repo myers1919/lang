{
 "cells": [
  {
   "cell_type": "code",
   "execution_count": 1,
   "metadata": {},
   "outputs": [
    {
     "name": "stdout",
     "output_type": "stream",
     "text": [
      "1\n",
      "{'deutsch': 'das Abenteuer', 'englisch': 'the adventure'}\n",
      "2\n",
      "{'deutsch': 'der Eisberg', 'englisch': 'the iceberg'}\n",
      "3\n",
      "{'deutsch': 'der Anfanger', 'englisch': 'the beginner'}\n",
      "4\n",
      "{'deutsch': 'der Kinderwagen', 'englisch': 'the stroller'}\n",
      "5\n",
      "{'deutsch': 'das Feld', 'englisch': 'the field'}\n",
      "6\n",
      "{'deutsch': 'das Hochzeitskleid', 'englisch': 'the wedding dress'}\n",
      "7\n",
      "{'deutsch': 'das Versteck', 'englisch': 'the hiding place'}\n",
      "8\n",
      "{'deutsch': 'die Lange', 'englisch': 'the length'}\n",
      "9\n",
      "{'deutsch': 'die Richtung', 'englisch': 'the direction'}\n",
      "10\n",
      "{'deutsch': 'die Verdunstung', 'englisch': 'the evaporation'}\n",
      "11\n",
      "{'deutsch': 'die Windel', 'englisch': 'the diaper'}\n",
      "12\n",
      "{'deutsch': 'die Verdeidigung', 'englisch': 'the defense'}\n",
      "13\n",
      "{'deutsch': 'die Teekuche', 'englisch': 'the kitchen area  '}\n",
      "14\n",
      "{'deutsch': 'die Traube', 'englisch': 'the grape'}\n",
      "15\n",
      "{'deutsch': 'der Berater', 'englisch': 'the consultant'}\n",
      "16\n",
      "{'deutsch': 'der Fehler', 'englisch': 'the mistake'}\n"
     ]
    }
   ],
   "source": [
    "import json\n",
    "\n",
    "filepath = 'data/vocab.json'\n",
    "with open(filepath, 'r') as f:\n",
    "    vocab_data = json.load(f)"
   ]
  },
  {
   "cell_type": "code",
   "execution_count": 2,
   "metadata": {},
   "outputs": [],
   "source": [
    "# Load lang data\n",
    "import json\n",
    "import pandas as pd\n",
    "with open('data/vocab.json') as f:\n",
    "    data = json.load(f)\n",
    "df = pd.DataFrame(data)\n",
    "df = df.transpose()"
   ]
  },
  {
   "cell_type": "code",
   "execution_count": 5,
   "metadata": {},
   "outputs": [],
   "source": [
    "answer = 'the diaper'"
   ]
  },
  {
   "cell_type": "code",
   "execution_count": 29,
   "metadata": {},
   "outputs": [],
   "source": [
    "import Levenshtein\n",
    "\n",
    "def get_levenshtein_distance(s1, s2):\n",
    "    return Levenshtein.distance(s1, s2)\n",
    "\n",
    "df['L'] = df['englisch'].apply(lambda x: get_levenshtein_distance(x, answer))\n",
    "df = df.sort_values(by=['L'], ascending=True)\n",
    "alternatives = df.englisch[1:4].tolist()"
   ]
  },
  {
   "cell_type": "code",
   "execution_count": 30,
   "metadata": {},
   "outputs": [
    {
     "data": {
      "text/plain": [
       "['the grape', 'the iceberg', 'the beginner']"
      ]
     },
     "execution_count": 30,
     "metadata": {},
     "output_type": "execute_result"
    }
   ],
   "source": [
    "alternatives"
   ]
  },
  {
   "cell_type": "code",
   "execution_count": 24,
   "metadata": {},
   "outputs": [
    {
     "data": {
      "text/html": [
       "<div>\n",
       "<style scoped>\n",
       "    .dataframe tbody tr th:only-of-type {\n",
       "        vertical-align: middle;\n",
       "    }\n",
       "\n",
       "    .dataframe tbody tr th {\n",
       "        vertical-align: top;\n",
       "    }\n",
       "\n",
       "    .dataframe thead th {\n",
       "        text-align: right;\n",
       "    }\n",
       "</style>\n",
       "<table border=\"1\" class=\"dataframe\">\n",
       "  <thead>\n",
       "    <tr style=\"text-align: right;\">\n",
       "      <th></th>\n",
       "      <th>deutsch</th>\n",
       "      <th>englisch</th>\n",
       "      <th>L</th>\n",
       "    </tr>\n",
       "  </thead>\n",
       "  <tbody>\n",
       "    <tr>\n",
       "      <th>11</th>\n",
       "      <td>die Windel</td>\n",
       "      <td>the diaper</td>\n",
       "      <td>0</td>\n",
       "    </tr>\n",
       "    <tr>\n",
       "      <th>14</th>\n",
       "      <td>die Traube</td>\n",
       "      <td>the grape</td>\n",
       "      <td>3</td>\n",
       "    </tr>\n",
       "    <tr>\n",
       "      <th>2</th>\n",
       "      <td>der Eisberg</td>\n",
       "      <td>the iceberg</td>\n",
       "      <td>5</td>\n",
       "    </tr>\n",
       "    <tr>\n",
       "      <th>3</th>\n",
       "      <td>der Anfanger</td>\n",
       "      <td>the beginner</td>\n",
       "      <td>5</td>\n",
       "    </tr>\n",
       "    <tr>\n",
       "      <th>5</th>\n",
       "      <td>das Feld</td>\n",
       "      <td>the field</td>\n",
       "      <td>5</td>\n",
       "    </tr>\n",
       "    <tr>\n",
       "      <th>16</th>\n",
       "      <td>der Fehler</td>\n",
       "      <td>the mistake</td>\n",
       "      <td>5</td>\n",
       "    </tr>\n",
       "    <tr>\n",
       "      <th>4</th>\n",
       "      <td>der Kinderwagen</td>\n",
       "      <td>the stroller</td>\n",
       "      <td>6</td>\n",
       "    </tr>\n",
       "    <tr>\n",
       "      <th>8</th>\n",
       "      <td>die Lange</td>\n",
       "      <td>the length</td>\n",
       "      <td>6</td>\n",
       "    </tr>\n",
       "    <tr>\n",
       "      <th>12</th>\n",
       "      <td>die Verdeidigung</td>\n",
       "      <td>the defense</td>\n",
       "      <td>6</td>\n",
       "    </tr>\n",
       "    <tr>\n",
       "      <th>1</th>\n",
       "      <td>das Abenteuer</td>\n",
       "      <td>the adventure</td>\n",
       "      <td>7</td>\n",
       "    </tr>\n",
       "    <tr>\n",
       "      <th>9</th>\n",
       "      <td>die Richtung</td>\n",
       "      <td>the direction</td>\n",
       "      <td>7</td>\n",
       "    </tr>\n",
       "    <tr>\n",
       "      <th>10</th>\n",
       "      <td>die Verdunstung</td>\n",
       "      <td>the evaporation</td>\n",
       "      <td>8</td>\n",
       "    </tr>\n",
       "    <tr>\n",
       "      <th>7</th>\n",
       "      <td>das Versteck</td>\n",
       "      <td>the hiding place</td>\n",
       "      <td>9</td>\n",
       "    </tr>\n",
       "    <tr>\n",
       "      <th>6</th>\n",
       "      <td>das Hochzeitskleid</td>\n",
       "      <td>the wedding dress</td>\n",
       "      <td>10</td>\n",
       "    </tr>\n",
       "    <tr>\n",
       "      <th>15</th>\n",
       "      <td>der Berater</td>\n",
       "      <td>the consultant</td>\n",
       "      <td>10</td>\n",
       "    </tr>\n",
       "    <tr>\n",
       "      <th>13</th>\n",
       "      <td>die Teekuche</td>\n",
       "      <td>the kitchen area</td>\n",
       "      <td>11</td>\n",
       "    </tr>\n",
       "  </tbody>\n",
       "</table>\n",
       "</div>"
      ],
      "text/plain": [
       "               deutsch            englisch   L\n",
       "11          die Windel          the diaper   0\n",
       "14          die Traube           the grape   3\n",
       "2          der Eisberg         the iceberg   5\n",
       "3         der Anfanger        the beginner   5\n",
       "5             das Feld           the field   5\n",
       "16          der Fehler         the mistake   5\n",
       "4      der Kinderwagen        the stroller   6\n",
       "8            die Lange          the length   6\n",
       "12    die Verdeidigung         the defense   6\n",
       "1        das Abenteuer       the adventure   7\n",
       "9         die Richtung       the direction   7\n",
       "10     die Verdunstung     the evaporation   8\n",
       "7         das Versteck    the hiding place   9\n",
       "6   das Hochzeitskleid   the wedding dress  10\n",
       "15         der Berater      the consultant  10\n",
       "13        die Teekuche  the kitchen area    11"
      ]
     },
     "execution_count": 24,
     "metadata": {},
     "output_type": "execute_result"
    }
   ],
   "source": [
    "df"
   ]
  },
  {
   "cell_type": "code",
   "execution_count": null,
   "metadata": {},
   "outputs": [],
   "source": []
  }
 ],
 "metadata": {
  "kernelspec": {
   "display_name": "Python 3",
   "language": "python",
   "name": "python3"
  },
  "language_info": {
   "codemirror_mode": {
    "name": "ipython",
    "version": 3
   },
   "file_extension": ".py",
   "mimetype": "text/x-python",
   "name": "python",
   "nbconvert_exporter": "python",
   "pygments_lexer": "ipython3",
   "version": "3.10.6"
  }
 },
 "nbformat": 4,
 "nbformat_minor": 2
}
