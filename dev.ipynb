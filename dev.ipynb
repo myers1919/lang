{
 "cells": [
  {
   "cell_type": "code",
   "execution_count": 1,
   "metadata": {},
   "outputs": [],
   "source": [
    "import json"
   ]
  },
  {
   "cell_type": "code",
   "execution_count": 3,
   "metadata": {},
   "outputs": [],
   "source": [
    "filepath = 'data/vocab.json'\n",
    "with open(filepath, 'r') as f:\n",
    "    vocab_data = json.load(f)"
   ]
  },
  {
   "cell_type": "code",
   "execution_count": 4,
   "metadata": {},
   "outputs": [
    {
     "data": {
      "text/plain": [
       "{'1': {'deutsch': 'das Abenteuer', 'englisch': 'the adventure'},\n",
       " '2': {'deutsch': 'der Eisberg', 'englisch': 'the iceberg'},\n",
       " '3': {'deutsch': 'der Anfanger', 'englisch': 'the beginner'},\n",
       " '4': {'deutsch': 'der Kinderwagen', 'englisch': 'the stroller'},\n",
       " '5': {'deutsch': 'das Feld', 'englisch': 'the field'},\n",
       " '6': {'deutsch': 'das Hochzeitskleid', 'englisch': 'the wedding dress'},\n",
       " '7': {'deutsch': 'das Versteck', 'englisch': 'the hiding place'},\n",
       " '8': {'deutsch': 'die Lange', 'englisch': 'the length'},\n",
       " '9': {'deutsch': 'die Richtung', 'englisch': 'the direction'},\n",
       " '10': {'deutsch': 'die Verdunstung', 'englisch': 'the evaporation'}}"
      ]
     },
     "execution_count": 4,
     "metadata": {},
     "output_type": "execute_result"
    }
   ],
   "source": [
    "vocab_data"
   ]
  },
  {
   "cell_type": "code",
   "execution_count": 20,
   "metadata": {},
   "outputs": [
    {
     "name": "stdout",
     "output_type": "stream",
     "text": [
      "1\n",
      "{'deutsch': 'das Abenteuer', 'englisch': 'the adventure'}\n",
      "2\n",
      "{'deutsch': 'der Eisberg', 'englisch': 'the iceberg'}\n",
      "3\n",
      "{'deutsch': 'der Anfanger', 'englisch': 'the beginner'}\n",
      "4\n",
      "{'deutsch': 'der Kinderwagen', 'englisch': 'the stroller'}\n",
      "5\n",
      "{'deutsch': 'das Feld', 'englisch': 'the field'}\n",
      "6\n",
      "{'deutsch': 'das Hochzeitskleid', 'englisch': 'the wedding dress'}\n",
      "7\n",
      "{'deutsch': 'das Versteck', 'englisch': 'the hiding place'}\n",
      "8\n",
      "{'deutsch': 'die Lange', 'englisch': 'the length'}\n",
      "9\n",
      "{'deutsch': 'die Richtung', 'englisch': 'the direction'}\n",
      "10\n",
      "{'deutsch': 'die Verdunstung', 'englisch': 'the evaporation'}\n"
     ]
    }
   ],
   "source": [
    "for idx, item in vocab_data.items():\n",
    "    print(idx)\n",
    "    print(item)"
   ]
  },
  {
   "cell_type": "code",
   "execution_count": 10,
   "metadata": {},
   "outputs": [],
   "source": [
    "# Load lang data\n",
    "import json\n",
    "import pandas as pd\n",
    "with open('data/vocab.json') as f:\n",
    "    data = json.load(f)\n",
    "df = pd.DataFrame(data)\n",
    "df = df.transpose()"
   ]
  },
  {
   "cell_type": "code",
   "execution_count": 3,
   "metadata": {},
   "outputs": [],
   "source": [
    "import random\n"
   ]
  },
  {
   "cell_type": "code",
   "execution_count": 6,
   "metadata": {},
   "outputs": [
    {
     "ename": "AttributeError",
     "evalue": "'dict' object has no attribute 'index'",
     "output_type": "error",
     "traceback": [
      "\u001b[1;31m---------------------------------------------------------------------------\u001b[0m",
      "\u001b[1;31mAttributeError\u001b[0m                            Traceback (most recent call last)",
      "Cell \u001b[1;32mIn[6], line 1\u001b[0m\n\u001b[1;32m----> 1\u001b[0m \u001b[43mdata\u001b[49m\u001b[38;5;241;43m.\u001b[39;49m\u001b[43mindex\u001b[49m()\n",
      "\u001b[1;31mAttributeError\u001b[0m: 'dict' object has no attribute 'index'"
     ]
    }
   ],
   "source": [
    "data.index()"
   ]
  },
  {
   "cell_type": "code",
   "execution_count": null,
   "metadata": {},
   "outputs": [],
   "source": []
  }
 ],
 "metadata": {
  "kernelspec": {
   "display_name": "Python 3",
   "language": "python",
   "name": "python3"
  },
  "language_info": {
   "codemirror_mode": {
    "name": "ipython",
    "version": 3
   },
   "file_extension": ".py",
   "mimetype": "text/x-python",
   "name": "python",
   "nbconvert_exporter": "python",
   "pygments_lexer": "ipython3",
   "version": "3.10.6"
  }
 },
 "nbformat": 4,
 "nbformat_minor": 2
}
